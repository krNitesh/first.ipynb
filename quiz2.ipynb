{
 "cells": [
  {
   "cell_type": "code",
   "execution_count": 15,
   "metadata": {},
   "outputs": [
    {
     "name": "stdout",
     "output_type": "stream",
     "text": [
      "[[ 6 -6]\n",
      " [11  7]]\n"
     ]
    }
   ],
   "source": [
    "import numpy as np\n",
    "a= np.array([[4,3],[6,9]])\n",
    "b= np.array([[-2,9],[-5,2]])\n",
    "c=a-b\n",
    "print c\n"
   ]
  },
  {
   "cell_type": "code",
   "execution_count": 16,
   "metadata": {},
   "outputs": [
    {
     "name": "stdout",
     "output_type": "stream",
     "text": [
      "[[ 1. ]\n",
      " [ 3.5]\n",
      " [ 2. ]\n",
      " [ 0.5]]\n"
     ]
    }
   ],
   "source": [
    "import numpy as np\n",
    "x= np.array([[2],[7],[4],[1]])\n",
    "b=1.0/2*x.astype(float)\n",
    "print b"
   ]
  },
  {
   "cell_type": "code",
   "execution_count": 17,
   "metadata": {},
   "outputs": [
    {
     "name": "stdout",
     "output_type": "stream",
     "text": [
      "[[8 1 4]]\n"
     ]
    }
   ],
   "source": [
    "import numpy as np\n",
    "a = np.array([[8],[1],[4]])\n",
    "b=a.T    #.T converts a particular matrix in its respective transpose\n",
    "print a.T"
   ]
  },
  {
   "cell_type": "code",
   "execution_count": null,
   "metadata": {},
   "outputs": [],
   "source": [
    "#Question 4.\n",
    "\"b\" and \"c\""
   ]
  }
 ],
 "metadata": {
  "kernelspec": {
   "display_name": "Python 2",
   "language": "python",
   "name": "python2"
  },
  "language_info": {
   "codemirror_mode": {
    "name": "ipython",
    "version": 2
   },
   "file_extension": ".py",
   "mimetype": "text/x-python",
   "name": "python",
   "nbconvert_exporter": "python",
   "pygments_lexer": "ipython2",
   "version": "2.7.13"
  }
 },
 "nbformat": 4,
 "nbformat_minor": 2
}
