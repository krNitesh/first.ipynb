{
 "cells": [
  {
   "cell_type": "code",
   "execution_count": 2,
   "metadata": {},
   "outputs": [
    {
     "name": "stdout",
     "output_type": "stream",
     "text": [
      "2.76666666667\n",
      "1.83333333333\n"
     ]
    }
   ],
   "source": [
    "X = [2.6, 1.9, 3.7, 2.5, 3.1, 2.8]\n",
    "mean=0\n",
    "for i in X:\n",
    "    mean=mean+i\n",
    "mean=(mean/len(X))\n",
    "print mean\n",
    "sumofsquares=0\n",
    "for item in X:\n",
    "    sumofsquares=sumofsquares+((mean-item)*(mean-item))\n",
    "print sumofsquares\n"
   ]
  },
  {
   "cell_type": "code",
   "execution_count": 3,
   "metadata": {},
   "outputs": [
    {
     "name": "stdout",
     "output_type": "stream",
     "text": [
      "96.123\n"
     ]
    }
   ],
   "source": [
    "standard_deviation=1.79\n",
    "variance = pow(standard_deviation,2)\n",
    "n=30\n",
    "sumofsquares=variance*n\n",
    "print sumofsquares"
   ]
  },
  {
   "cell_type": "code",
   "execution_count": 10,
   "metadata": {},
   "outputs": [
    {
     "name": "stdout",
     "output_type": "stream",
     "text": [
      "mean=17\n",
      "sumofsquares=283.0\n",
      "median=16\n",
      "variance=47.1666666667\n",
      "standard deviation=6.86779925935\n"
     ]
    }
   ],
   "source": [
    "X = [16, 22, 11, 14, 13, 31]\n",
    "mean=0\n",
    "for i in X:\n",
    "    mean=mean+i\n",
    "mean=(mean/len(X))\n",
    "print(\"mean=\"+ str(mean))\n",
    "\n",
    "sumofsquares=0.0\n",
    "for item in X:\n",
    "    sumofsquares=sumofsquares+((mean-item)*(mean-item))\n",
    "print(\"sumofsquares=\"+str(sumofsquares))\n",
    "sortedLst = sorted(X)\n",
    "XLen = len(X)\n",
    "if (XLen % 2==0):\n",
    "    print(\"median=\"+ str(sortedLst[(XLen)/2]))\n",
    "else:\n",
    "    print(\"median=\"+ str((sortedLst[(XLen-1)/2] + sortedLst[((XLen-1)/2)+1])/2.0))\n",
    "variance=sumofsquares\n",
    "variance=(variance/(len(X)))\n",
    "print(\"variance=\"+str(variance))\n",
    "\n",
    "sd=variance\n",
    "sd=sd**(.5)\n",
    "print(\"standard deviation=\"+str(sd))\n"
   ]
  },
  {
   "cell_type": "code",
   "execution_count": null,
   "metadata": {},
   "outputs": [],
   "source": []
  }
 ],
 "metadata": {
  "kernelspec": {
   "display_name": "Python 2",
   "language": "python",
   "name": "python2"
  },
  "language_info": {
   "codemirror_mode": {
    "name": "ipython",
    "version": 2
   },
   "file_extension": ".py",
   "mimetype": "text/x-python",
   "name": "python",
   "nbconvert_exporter": "python",
   "pygments_lexer": "ipython2",
   "version": "2.7.13"
  }
 },
 "nbformat": 4,
 "nbformat_minor": 2
}
